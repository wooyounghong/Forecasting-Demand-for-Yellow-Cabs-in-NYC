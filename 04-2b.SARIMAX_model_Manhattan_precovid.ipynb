{
  "cells": [
    {
      "cell_type": "code",
      "source": [
        "import pandas as pd\n",
        "import numpy as np\n",
        "import matplotlib.pyplot as plt\n",
        "import seaborn as sns\n",
        "import math\n",
        "np.random.seed(365)\n",
        "from numpy import mean\n",
        "import pickle\n",
        "import warnings\n",
        "warnings.filterwarnings(\"ignore\")\n",
        "\n",
        "import statsmodels.api as sm\n",
        "from sklearn.metrics import mean_squared_error\n",
        "from statsmodels.tools.eval_measures import rmse \n",
        "from statsmodels.tsa.api import ExponentialSmoothing, SimpleExpSmoothing, Holt\n",
        "from statsmodels.tsa.arima_model import ARIMA\n",
        "from statsmodels.tsa.stattools import adfuller\n",
        "from statsmodels.tsa.seasonal import seasonal_decompose \n",
        "from pmdarima import auto_arima \n",
        "from statsmodels.tsa.statespace.sarimax import SARIMAX \n",
        "\n",
        " \n"
      ],
      "outputs": [],
      "execution_count": 3,
      "metadata": {
        "gather": {
          "logged": 1605174384354
        }
      }
    },
    {
      "cell_type": "markdown",
      "source": [
        "## Load the data:"
      ],
      "metadata": {
        "nteract": {
          "transient": {
            "deleting": false
          }
        }
      }
    },
    {
      "cell_type": "code",
      "source": [
        "queens_df = pickle.load(open('./data/final_cleaned_data/queens_cleaned_data.pkl','rb'))"
      ],
      "outputs": [],
      "execution_count": 4,
      "metadata": {
        "collapsed": true,
        "jupyter": {
          "source_hidden": false,
          "outputs_hidden": false
        },
        "nteract": {
          "transient": {
            "deleting": false
          }
        },
        "gather": {
          "logged": 1605174384817
        }
      }
    },
    {
      "cell_type": "markdown",
      "source": [
        "### Splitting precovid and covid season:"
      ],
      "metadata": {
        "nteract": {
          "transient": {
            "deleting": false
          }
        }
      }
    },
    {
      "cell_type": "code",
      "source": [
        "#Queens\n",
        "queens_precovid_df = queens_df[:'2020-03-21']\n",
        "queens_covid_df = queens_df['2020-03-21':]"
      ],
      "outputs": [],
      "execution_count": 5,
      "metadata": {
        "collapsed": true,
        "jupyter": {
          "source_hidden": false,
          "outputs_hidden": false
        },
        "nteract": {
          "transient": {
            "deleting": false
          }
        },
        "gather": {
          "logged": 1605174384950
        }
      }
    },
    {
      "cell_type": "markdown",
      "source": [
        "### Train Test Split:"
      ],
      "metadata": {
        "nteract": {
          "transient": {
            "deleting": false
          }
        }
      }
    },
    {
      "cell_type": "code",
      "source": [
        "#Queens\n",
        "train_ = queens_df[:'2020-01-31']\n",
        "test_ = queens_df['2020-02-01':'2020-02-29']"
      ],
      "outputs": [],
      "execution_count": 6,
      "metadata": {
        "collapsed": true,
        "jupyter": {
          "source_hidden": false,
          "outputs_hidden": false
        },
        "nteract": {
          "transient": {
            "deleting": false
          }
        },
        "gather": {
          "logged": 1605174385109
        }
      }
    },
    {
      "cell_type": "markdown",
      "source": [
        "#### Set hour dataframe:"
      ],
      "metadata": {
        "nteract": {
          "transient": {
            "deleting": false
          }
        }
      }
    },
    {
      "cell_type": "code",
      "source": [
        "copied_df = train_.copy()\n",
        "hour = pd.DataFrame(copied_df.index.hour)\n",
        "hour"
      ],
      "outputs": [
        {
          "output_type": "execute_result",
          "execution_count": 7,
          "data": {
            "text/plain": "      pickup_time\n0               0\n1               1\n2               2\n3               3\n4               4\n...           ...\n5875           19\n5876           20\n5877           21\n5878           22\n5879           23\n\n[5880 rows x 1 columns]",
            "text/html": "<div>\n<style scoped>\n    .dataframe tbody tr th:only-of-type {\n        vertical-align: middle;\n    }\n\n    .dataframe tbody tr th {\n        vertical-align: top;\n    }\n\n    .dataframe thead th {\n        text-align: right;\n    }\n</style>\n<table border=\"1\" class=\"dataframe\">\n  <thead>\n    <tr style=\"text-align: right;\">\n      <th></th>\n      <th>pickup_time</th>\n    </tr>\n  </thead>\n  <tbody>\n    <tr>\n      <th>0</th>\n      <td>0</td>\n    </tr>\n    <tr>\n      <th>1</th>\n      <td>1</td>\n    </tr>\n    <tr>\n      <th>2</th>\n      <td>2</td>\n    </tr>\n    <tr>\n      <th>3</th>\n      <td>3</td>\n    </tr>\n    <tr>\n      <th>4</th>\n      <td>4</td>\n    </tr>\n    <tr>\n      <th>...</th>\n      <td>...</td>\n    </tr>\n    <tr>\n      <th>5875</th>\n      <td>19</td>\n    </tr>\n    <tr>\n      <th>5876</th>\n      <td>20</td>\n    </tr>\n    <tr>\n      <th>5877</th>\n      <td>21</td>\n    </tr>\n    <tr>\n      <th>5878</th>\n      <td>22</td>\n    </tr>\n    <tr>\n      <th>5879</th>\n      <td>23</td>\n    </tr>\n  </tbody>\n</table>\n<p>5880 rows × 1 columns</p>\n</div>"
          },
          "metadata": {}
        }
      ],
      "execution_count": 7,
      "metadata": {
        "collapsed": true,
        "jupyter": {
          "source_hidden": false,
          "outputs_hidden": false
        },
        "nteract": {
          "transient": {
            "deleting": false
          }
        },
        "gather": {
          "logged": 1605174385281
        }
      }
    },
    {
      "cell_type": "code",
      "source": [
        "copied_df['hour'] = copied_df.index.hour"
      ],
      "outputs": [],
      "execution_count": 8,
      "metadata": {
        "collapsed": true,
        "jupyter": {
          "source_hidden": false,
          "outputs_hidden": false
        },
        "nteract": {
          "transient": {
            "deleting": false
          }
        },
        "gather": {
          "logged": 1605174385439
        }
      }
    },
    {
      "cell_type": "markdown",
      "source": [
        "#### Set day of the week (5 and 6 are Saturday and Sunday):"
      ],
      "metadata": {
        "nteract": {
          "transient": {
            "deleting": false
          }
        }
      }
    },
    {
      "cell_type": "code",
      "source": [
        "copied_df.index.dayofweek"
      ],
      "outputs": [
        {
          "output_type": "execute_result",
          "execution_count": 9,
          "data": {
            "text/plain": "Int64Index([5, 5, 5, 5, 5, 5, 5, 5, 5, 5,\n            ...\n            4, 4, 4, 4, 4, 4, 4, 4, 4, 4],\n           dtype='int64', name='pickup_time', length=5880)"
          },
          "metadata": {}
        }
      ],
      "execution_count": 9,
      "metadata": {
        "collapsed": true,
        "jupyter": {
          "source_hidden": false,
          "outputs_hidden": false
        },
        "nteract": {
          "transient": {
            "deleting": false
          }
        },
        "gather": {
          "logged": 1605174385498
        }
      }
    },
    {
      "cell_type": "code",
      "source": [
        "# assign week day and weekend\n",
        "copied_df['day'] = copied_df.index.dayofweek"
      ],
      "outputs": [],
      "execution_count": 10,
      "metadata": {
        "collapsed": true,
        "jupyter": {
          "source_hidden": false,
          "outputs_hidden": false
        },
        "nteract": {
          "transient": {
            "deleting": false
          }
        },
        "gather": {
          "logged": 1605174385890
        }
      }
    },
    {
      "cell_type": "code",
      "source": [
        "copied_df['day']"
      ],
      "outputs": [
        {
          "output_type": "execute_result",
          "execution_count": 11,
          "data": {
            "text/plain": "pickup_time\n2019-06-01 00:00:00    5\n2019-06-01 01:00:00    5\n2019-06-01 02:00:00    5\n2019-06-01 03:00:00    5\n2019-06-01 04:00:00    5\n                      ..\n2020-01-31 19:00:00    4\n2020-01-31 20:00:00    4\n2020-01-31 21:00:00    4\n2020-01-31 22:00:00    4\n2020-01-31 23:00:00    4\nFreq: H, Name: day, Length: 5880, dtype: int64"
          },
          "metadata": {}
        }
      ],
      "execution_count": 11,
      "metadata": {
        "collapsed": true,
        "jupyter": {
          "source_hidden": false,
          "outputs_hidden": false
        },
        "nteract": {
          "transient": {
            "deleting": false
          }
        },
        "gather": {
          "logged": 1605174385950
        }
      }
    },
    {
      "cell_type": "markdown",
      "source": [
        "#### Dummy the data by using OneHotEncoder"
      ],
      "metadata": {
        "nteract": {
          "transient": {
            "deleting": false
          }
        }
      }
    },
    {
      "cell_type": "code",
      "source": [
        "from sklearn.preprocessing import OneHotEncoder\n",
        "ohe = OneHotEncoder(drop='first')\n",
        "output = ohe.fit_transform(copied_df[['hour', 'day']]).toarray() ## fit transform hour and day"
      ],
      "outputs": [],
      "execution_count": 12,
      "metadata": {
        "collapsed": true,
        "jupyter": {
          "source_hidden": false,
          "outputs_hidden": false
        },
        "nteract": {
          "transient": {
            "deleting": false
          }
        },
        "gather": {
          "logged": 1605174386202
        }
      }
    },
    {
      "cell_type": "code",
      "source": [
        "output_df = pd.DataFrame(data=output, index=copied_df.index, columns=ohe.get_feature_names(['hour', 'day']))"
      ],
      "outputs": [],
      "execution_count": 13,
      "metadata": {
        "collapsed": true,
        "jupyter": {
          "source_hidden": false,
          "outputs_hidden": false
        },
        "nteract": {
          "transient": {
            "deleting": false
          }
        },
        "gather": {
          "logged": 1605174386321
        }
      }
    },
    {
      "cell_type": "code",
      "source": [
        "output_df"
      ],
      "outputs": [
        {
          "output_type": "execute_result",
          "execution_count": 14,
          "data": {
            "text/plain": "                     hour_1  hour_2  hour_3  hour_4  hour_5  hour_6  hour_7  \\\npickup_time                                                                   \n2019-06-01 00:00:00     0.0     0.0     0.0     0.0     0.0     0.0     0.0   \n2019-06-01 01:00:00     1.0     0.0     0.0     0.0     0.0     0.0     0.0   \n2019-06-01 02:00:00     0.0     1.0     0.0     0.0     0.0     0.0     0.0   \n2019-06-01 03:00:00     0.0     0.0     1.0     0.0     0.0     0.0     0.0   \n2019-06-01 04:00:00     0.0     0.0     0.0     1.0     0.0     0.0     0.0   \n...                     ...     ...     ...     ...     ...     ...     ...   \n2020-01-31 19:00:00     0.0     0.0     0.0     0.0     0.0     0.0     0.0   \n2020-01-31 20:00:00     0.0     0.0     0.0     0.0     0.0     0.0     0.0   \n2020-01-31 21:00:00     0.0     0.0     0.0     0.0     0.0     0.0     0.0   \n2020-01-31 22:00:00     0.0     0.0     0.0     0.0     0.0     0.0     0.0   \n2020-01-31 23:00:00     0.0     0.0     0.0     0.0     0.0     0.0     0.0   \n\n                     hour_8  hour_9  hour_10  ...  hour_20  hour_21  hour_22  \\\npickup_time                                   ...                              \n2019-06-01 00:00:00     0.0     0.0      0.0  ...      0.0      0.0      0.0   \n2019-06-01 01:00:00     0.0     0.0      0.0  ...      0.0      0.0      0.0   \n2019-06-01 02:00:00     0.0     0.0      0.0  ...      0.0      0.0      0.0   \n2019-06-01 03:00:00     0.0     0.0      0.0  ...      0.0      0.0      0.0   \n2019-06-01 04:00:00     0.0     0.0      0.0  ...      0.0      0.0      0.0   \n...                     ...     ...      ...  ...      ...      ...      ...   \n2020-01-31 19:00:00     0.0     0.0      0.0  ...      0.0      0.0      0.0   \n2020-01-31 20:00:00     0.0     0.0      0.0  ...      1.0      0.0      0.0   \n2020-01-31 21:00:00     0.0     0.0      0.0  ...      0.0      1.0      0.0   \n2020-01-31 22:00:00     0.0     0.0      0.0  ...      0.0      0.0      1.0   \n2020-01-31 23:00:00     0.0     0.0      0.0  ...      0.0      0.0      0.0   \n\n                     hour_23  day_1  day_2  day_3  day_4  day_5  day_6  \npickup_time                                                             \n2019-06-01 00:00:00      0.0    0.0    0.0    0.0    0.0    1.0    0.0  \n2019-06-01 01:00:00      0.0    0.0    0.0    0.0    0.0    1.0    0.0  \n2019-06-01 02:00:00      0.0    0.0    0.0    0.0    0.0    1.0    0.0  \n2019-06-01 03:00:00      0.0    0.0    0.0    0.0    0.0    1.0    0.0  \n2019-06-01 04:00:00      0.0    0.0    0.0    0.0    0.0    1.0    0.0  \n...                      ...    ...    ...    ...    ...    ...    ...  \n2020-01-31 19:00:00      0.0    0.0    0.0    0.0    1.0    0.0    0.0  \n2020-01-31 20:00:00      0.0    0.0    0.0    0.0    1.0    0.0    0.0  \n2020-01-31 21:00:00      0.0    0.0    0.0    0.0    1.0    0.0    0.0  \n2020-01-31 22:00:00      0.0    0.0    0.0    0.0    1.0    0.0    0.0  \n2020-01-31 23:00:00      1.0    0.0    0.0    0.0    1.0    0.0    0.0  \n\n[5880 rows x 29 columns]",
            "text/html": "<div>\n<style scoped>\n    .dataframe tbody tr th:only-of-type {\n        vertical-align: middle;\n    }\n\n    .dataframe tbody tr th {\n        vertical-align: top;\n    }\n\n    .dataframe thead th {\n        text-align: right;\n    }\n</style>\n<table border=\"1\" class=\"dataframe\">\n  <thead>\n    <tr style=\"text-align: right;\">\n      <th></th>\n      <th>hour_1</th>\n      <th>hour_2</th>\n      <th>hour_3</th>\n      <th>hour_4</th>\n      <th>hour_5</th>\n      <th>hour_6</th>\n      <th>hour_7</th>\n      <th>hour_8</th>\n      <th>hour_9</th>\n      <th>hour_10</th>\n      <th>...</th>\n      <th>hour_20</th>\n      <th>hour_21</th>\n      <th>hour_22</th>\n      <th>hour_23</th>\n      <th>day_1</th>\n      <th>day_2</th>\n      <th>day_3</th>\n      <th>day_4</th>\n      <th>day_5</th>\n      <th>day_6</th>\n    </tr>\n    <tr>\n      <th>pickup_time</th>\n      <th></th>\n      <th></th>\n      <th></th>\n      <th></th>\n      <th></th>\n      <th></th>\n      <th></th>\n      <th></th>\n      <th></th>\n      <th></th>\n      <th></th>\n      <th></th>\n      <th></th>\n      <th></th>\n      <th></th>\n      <th></th>\n      <th></th>\n      <th></th>\n      <th></th>\n      <th></th>\n      <th></th>\n    </tr>\n  </thead>\n  <tbody>\n    <tr>\n      <th>2019-06-01 00:00:00</th>\n      <td>0.0</td>\n      <td>0.0</td>\n      <td>0.0</td>\n      <td>0.0</td>\n      <td>0.0</td>\n      <td>0.0</td>\n      <td>0.0</td>\n      <td>0.0</td>\n      <td>0.0</td>\n      <td>0.0</td>\n      <td>...</td>\n      <td>0.0</td>\n      <td>0.0</td>\n      <td>0.0</td>\n      <td>0.0</td>\n      <td>0.0</td>\n      <td>0.0</td>\n      <td>0.0</td>\n      <td>0.0</td>\n      <td>1.0</td>\n      <td>0.0</td>\n    </tr>\n    <tr>\n      <th>2019-06-01 01:00:00</th>\n      <td>1.0</td>\n      <td>0.0</td>\n      <td>0.0</td>\n      <td>0.0</td>\n      <td>0.0</td>\n      <td>0.0</td>\n      <td>0.0</td>\n      <td>0.0</td>\n      <td>0.0</td>\n      <td>0.0</td>\n      <td>...</td>\n      <td>0.0</td>\n      <td>0.0</td>\n      <td>0.0</td>\n      <td>0.0</td>\n      <td>0.0</td>\n      <td>0.0</td>\n      <td>0.0</td>\n      <td>0.0</td>\n      <td>1.0</td>\n      <td>0.0</td>\n    </tr>\n    <tr>\n      <th>2019-06-01 02:00:00</th>\n      <td>0.0</td>\n      <td>1.0</td>\n      <td>0.0</td>\n      <td>0.0</td>\n      <td>0.0</td>\n      <td>0.0</td>\n      <td>0.0</td>\n      <td>0.0</td>\n      <td>0.0</td>\n      <td>0.0</td>\n      <td>...</td>\n      <td>0.0</td>\n      <td>0.0</td>\n      <td>0.0</td>\n      <td>0.0</td>\n      <td>0.0</td>\n      <td>0.0</td>\n      <td>0.0</td>\n      <td>0.0</td>\n      <td>1.0</td>\n      <td>0.0</td>\n    </tr>\n    <tr>\n      <th>2019-06-01 03:00:00</th>\n      <td>0.0</td>\n      <td>0.0</td>\n      <td>1.0</td>\n      <td>0.0</td>\n      <td>0.0</td>\n      <td>0.0</td>\n      <td>0.0</td>\n      <td>0.0</td>\n      <td>0.0</td>\n      <td>0.0</td>\n      <td>...</td>\n      <td>0.0</td>\n      <td>0.0</td>\n      <td>0.0</td>\n      <td>0.0</td>\n      <td>0.0</td>\n      <td>0.0</td>\n      <td>0.0</td>\n      <td>0.0</td>\n      <td>1.0</td>\n      <td>0.0</td>\n    </tr>\n    <tr>\n      <th>2019-06-01 04:00:00</th>\n      <td>0.0</td>\n      <td>0.0</td>\n      <td>0.0</td>\n      <td>1.0</td>\n      <td>0.0</td>\n      <td>0.0</td>\n      <td>0.0</td>\n      <td>0.0</td>\n      <td>0.0</td>\n      <td>0.0</td>\n      <td>...</td>\n      <td>0.0</td>\n      <td>0.0</td>\n      <td>0.0</td>\n      <td>0.0</td>\n      <td>0.0</td>\n      <td>0.0</td>\n      <td>0.0</td>\n      <td>0.0</td>\n      <td>1.0</td>\n      <td>0.0</td>\n    </tr>\n    <tr>\n      <th>...</th>\n      <td>...</td>\n      <td>...</td>\n      <td>...</td>\n      <td>...</td>\n      <td>...</td>\n      <td>...</td>\n      <td>...</td>\n      <td>...</td>\n      <td>...</td>\n      <td>...</td>\n      <td>...</td>\n      <td>...</td>\n      <td>...</td>\n      <td>...</td>\n      <td>...</td>\n      <td>...</td>\n      <td>...</td>\n      <td>...</td>\n      <td>...</td>\n      <td>...</td>\n      <td>...</td>\n    </tr>\n    <tr>\n      <th>2020-01-31 19:00:00</th>\n      <td>0.0</td>\n      <td>0.0</td>\n      <td>0.0</td>\n      <td>0.0</td>\n      <td>0.0</td>\n      <td>0.0</td>\n      <td>0.0</td>\n      <td>0.0</td>\n      <td>0.0</td>\n      <td>0.0</td>\n      <td>...</td>\n      <td>0.0</td>\n      <td>0.0</td>\n      <td>0.0</td>\n      <td>0.0</td>\n      <td>0.0</td>\n      <td>0.0</td>\n      <td>0.0</td>\n      <td>1.0</td>\n      <td>0.0</td>\n      <td>0.0</td>\n    </tr>\n    <tr>\n      <th>2020-01-31 20:00:00</th>\n      <td>0.0</td>\n      <td>0.0</td>\n      <td>0.0</td>\n      <td>0.0</td>\n      <td>0.0</td>\n      <td>0.0</td>\n      <td>0.0</td>\n      <td>0.0</td>\n      <td>0.0</td>\n      <td>0.0</td>\n      <td>...</td>\n      <td>1.0</td>\n      <td>0.0</td>\n      <td>0.0</td>\n      <td>0.0</td>\n      <td>0.0</td>\n      <td>0.0</td>\n      <td>0.0</td>\n      <td>1.0</td>\n      <td>0.0</td>\n      <td>0.0</td>\n    </tr>\n    <tr>\n      <th>2020-01-31 21:00:00</th>\n      <td>0.0</td>\n      <td>0.0</td>\n      <td>0.0</td>\n      <td>0.0</td>\n      <td>0.0</td>\n      <td>0.0</td>\n      <td>0.0</td>\n      <td>0.0</td>\n      <td>0.0</td>\n      <td>0.0</td>\n      <td>...</td>\n      <td>0.0</td>\n      <td>1.0</td>\n      <td>0.0</td>\n      <td>0.0</td>\n      <td>0.0</td>\n      <td>0.0</td>\n      <td>0.0</td>\n      <td>1.0</td>\n      <td>0.0</td>\n      <td>0.0</td>\n    </tr>\n    <tr>\n      <th>2020-01-31 22:00:00</th>\n      <td>0.0</td>\n      <td>0.0</td>\n      <td>0.0</td>\n      <td>0.0</td>\n      <td>0.0</td>\n      <td>0.0</td>\n      <td>0.0</td>\n      <td>0.0</td>\n      <td>0.0</td>\n      <td>0.0</td>\n      <td>...</td>\n      <td>0.0</td>\n      <td>0.0</td>\n      <td>1.0</td>\n      <td>0.0</td>\n      <td>0.0</td>\n      <td>0.0</td>\n      <td>0.0</td>\n      <td>1.0</td>\n      <td>0.0</td>\n      <td>0.0</td>\n    </tr>\n    <tr>\n      <th>2020-01-31 23:00:00</th>\n      <td>0.0</td>\n      <td>0.0</td>\n      <td>0.0</td>\n      <td>0.0</td>\n      <td>0.0</td>\n      <td>0.0</td>\n      <td>0.0</td>\n      <td>0.0</td>\n      <td>0.0</td>\n      <td>0.0</td>\n      <td>...</td>\n      <td>0.0</td>\n      <td>0.0</td>\n      <td>0.0</td>\n      <td>1.0</td>\n      <td>0.0</td>\n      <td>0.0</td>\n      <td>0.0</td>\n      <td>1.0</td>\n      <td>0.0</td>\n      <td>0.0</td>\n    </tr>\n  </tbody>\n</table>\n<p>5880 rows × 29 columns</p>\n</div>"
          },
          "metadata": {}
        }
      ],
      "execution_count": 14,
      "metadata": {
        "collapsed": true,
        "jupyter": {
          "source_hidden": false,
          "outputs_hidden": false
        },
        "nteract": {
          "transient": {
            "deleting": false
          }
        },
        "gather": {
          "logged": 1605174386497
        }
      }
    },
    {
      "cell_type": "markdown",
      "source": [
        "#### Create SARIMAX Model: SEASONALITY should be 24 but it takes too long so I changed for this purpose:"
      ],
      "metadata": {
        "nteract": {
          "transient": {
            "deleting": false
          }
        }
      }
    },
    {
      "cell_type": "code",
      "source": [
        "from statsmodels.tsa.statespace.sarimax import SARIMAX\n",
        "\n",
        "order = (1,0,2)\n",
        "seasonal_order = (1, 0, 2, 24)\n",
        "\n",
        "model = SARIMAX(copied_df['count'], exog= output_df, order=order, freq='H')\n",
        "sarimax_1 = model.fit()\n"
      ],
      "outputs": [],
      "execution_count": null,
      "metadata": {
        "collapsed": true,
        "jupyter": {
          "source_hidden": false,
          "outputs_hidden": false
        },
        "nteract": {
          "transient": {
            "deleting": false
          }
        },
        "gather": {
          "logged": 1605042931328
        }
      }
    },
    {
      "cell_type": "code",
      "source": [
        "sarimax_1.summary()"
      ],
      "outputs": [],
      "execution_count": null,
      "metadata": {
        "collapsed": true,
        "jupyter": {
          "source_hidden": false,
          "outputs_hidden": false
        },
        "nteract": {
          "transient": {
            "deleting": false
          }
        },
        "gather": {
          "logged": 1605042934765
        }
      }
    },
    {
      "cell_type": "markdown",
      "source": [
        "#### Let's set up exogenous variables:"
      ],
      "metadata": {
        "nteract": {
          "transient": {
            "deleting": false
          }
        }
      }
    },
    {
      "cell_type": "code",
      "source": [
        "exog2_df = pd.DataFrame(index=pd.date_range(start=\"2020-02-01\", end=\"2020-02-29\", freq='H'))"
      ],
      "outputs": [],
      "execution_count": null,
      "metadata": {
        "collapsed": true,
        "jupyter": {
          "source_hidden": false,
          "outputs_hidden": false
        },
        "nteract": {
          "transient": {
            "deleting": false
          }
        },
        "gather": {
          "logged": 1605042983317
        }
      }
    },
    {
      "cell_type": "code",
      "source": [
        "exog2_df['hour'] = exog2_df.index.hour\n",
        "exog2_df['day'] = exog2_df.index.dayofweek ## create day "
      ],
      "outputs": [],
      "execution_count": null,
      "metadata": {
        "collapsed": true,
        "jupyter": {
          "source_hidden": false,
          "outputs_hidden": false
        },
        "nteract": {
          "transient": {
            "deleting": false
          }
        },
        "gather": {
          "logged": 1605042984691
        }
      }
    },
    {
      "cell_type": "code",
      "source": [
        "exog2_df"
      ],
      "outputs": [],
      "execution_count": null,
      "metadata": {
        "collapsed": true,
        "jupyter": {
          "source_hidden": false,
          "outputs_hidden": false
        },
        "nteract": {
          "transient": {
            "deleting": false
          }
        },
        "gather": {
          "logged": 1605042988990
        }
      }
    },
    {
      "cell_type": "code",
      "source": [
        "ohe_2 = ohe.transform(exog2_df[['hour', 'day']]).toarray()"
      ],
      "outputs": [],
      "execution_count": null,
      "metadata": {
        "collapsed": true,
        "jupyter": {
          "source_hidden": false,
          "outputs_hidden": false
        },
        "nteract": {
          "transient": {
            "deleting": false
          }
        },
        "gather": {
          "logged": 1605042995932
        }
      }
    },
    {
      "cell_type": "code",
      "source": [
        "predictions = sarimax_1.predict(start='2020-02-01', end='2020-03-01', exog=ohe_2)\n",
        "residuals = residuals[:'2020-02-28 23:00:00'] - predictions\n",
        "residuals"
      ],
      "outputs": [],
      "execution_count": null,
      "metadata": {
        "collapsed": true,
        "jupyter": {
          "source_hidden": false,
          "outputs_hidden": false
        },
        "nteract": {
          "transient": {
            "deleting": false
          }
        },
        "gather": {
          "logged": 1605043073902
        }
      }
    },
    {
      "cell_type": "code",
      "source": [
        "plt.figure(figsize=(16,6))\n",
        "plt.plot(test_['count'])\n",
        "plt.plot(predictions)\n",
        "#plt.plot(train_['count'])\n",
        "plt.title('SARIMAX ')\n",
        "plt.legend(['Test Data', 'Predictions'])"
      ],
      "outputs": [],
      "execution_count": null,
      "metadata": {
        "collapsed": true,
        "jupyter": {
          "source_hidden": false,
          "outputs_hidden": false
        },
        "nteract": {
          "transient": {
            "deleting": false
          }
        },
        "gather": {
          "logged": 1605043196956
        }
      }
    },
    {
      "cell_type": "markdown",
      "source": [
        "## Forecasting: \n"
      ],
      "metadata": {
        "nteract": {
          "transient": {
            "deleting": false
          }
        }
      }
    },
    {
      "cell_type": "markdown",
      "source": [
        "once picking final model after evaluation: ** REFIT** "
      ],
      "metadata": {
        "nteract": {
          "transient": {
            "deleting": false
          }
        }
      }
    },
    {
      "cell_type": "code",
      "source": [
        "# Refit last step\n",
        "refit_ = queens_df[:'2020-02-29']\n",
        "hour = pd.DataFrame(copied_df.index.hour)\n",
        "refit_['hour'] = refit_.index.hour\n",
        "# assign week day and weekend\n",
        "refit_['day'] = refit_.index.dayofweek"
      ],
      "outputs": [],
      "execution_count": null,
      "metadata": {
        "collapsed": true,
        "jupyter": {
          "source_hidden": false,
          "outputs_hidden": false
        },
        "nteract": {
          "transient": {
            "deleting": false
          }
        },
        "gather": {
          "logged": 1605043232347
        }
      }
    },
    {
      "cell_type": "code",
      "source": [
        "ohe_refit = ohe.fit_transform(refit_[['hour', 'day']]).toarray() ## fit transform hour and day"
      ],
      "outputs": [],
      "execution_count": null,
      "metadata": {
        "collapsed": true,
        "jupyter": {
          "source_hidden": false,
          "outputs_hidden": false
        },
        "nteract": {
          "transient": {
            "deleting": false
          }
        },
        "gather": {
          "logged": 1605043233355
        }
      }
    },
    {
      "cell_type": "code",
      "source": [
        "exog_refit = pd.DataFrame(data=ohe_refit, index=refit_.index, columns=ohe.get_feature_names(['hour', 'day']))"
      ],
      "outputs": [],
      "execution_count": null,
      "metadata": {
        "collapsed": true,
        "jupyter": {
          "source_hidden": false,
          "outputs_hidden": false
        },
        "nteract": {
          "transient": {
            "deleting": false
          }
        },
        "gather": {
          "logged": 1605043234204
        }
      }
    },
    {
      "cell_type": "code",
      "source": [
        "order = (1,0,2)\n",
        "seasonal_order = (1, 0, 2, 8)\n",
        "\n",
        "model_refit = SARIMAX(refit_['count'], exog= ohe_refit, order=order, freq='H')\n",
        "sarimax_refit = model_refit.fit()\n"
      ],
      "outputs": [],
      "execution_count": null,
      "metadata": {
        "collapsed": true,
        "jupyter": {
          "source_hidden": false,
          "outputs_hidden": false
        },
        "nteract": {
          "transient": {
            "deleting": false
          }
        },
        "gather": {
          "logged": 1605043290504
        }
      }
    },
    {
      "cell_type": "code",
      "source": [
        "exog_refit = pd.DataFrame(index=pd.date_range(start=\"2020-03-01\", end=\"2020-04-01\", freq='H'))\n",
        "exog_refit['hour'] = exog_refit.index.hour\n",
        "exog_refit['day'] = exog_refit.index.dayofweek ## create day "
      ],
      "outputs": [],
      "execution_count": null,
      "metadata": {
        "collapsed": true,
        "jupyter": {
          "source_hidden": false,
          "outputs_hidden": false
        },
        "nteract": {
          "transient": {
            "deleting": false
          }
        },
        "gather": {
          "logged": 1605043294369
        }
      }
    },
    {
      "cell_type": "code",
      "source": [
        "ohe_refit2 = ohe.transform(exog_refit[['hour', 'day']]).toarray()"
      ],
      "outputs": [],
      "execution_count": null,
      "metadata": {
        "collapsed": true,
        "jupyter": {
          "source_hidden": false,
          "outputs_hidden": false
        },
        "nteract": {
          "transient": {
            "deleting": false
          }
        },
        "gather": {
          "logged": 1605043295401
        }
      }
    },
    {
      "cell_type": "code",
      "source": [
        "# predict\n",
        "predictions_refit = sarimax_refit.predict(start='2020-03-01', end='2020-04-01', exog=ohe_refit2)\n",
        "predictions_refit"
      ],
      "outputs": [],
      "execution_count": null,
      "metadata": {
        "collapsed": true,
        "jupyter": {
          "source_hidden": false,
          "outputs_hidden": false
        },
        "nteract": {
          "transient": {
            "deleting": false
          }
        },
        "gather": {
          "logged": 1605043297844
        }
      }
    },
    {
      "cell_type": "code",
      "source": [
        "refit_"
      ],
      "outputs": [],
      "execution_count": null,
      "metadata": {
        "collapsed": true,
        "jupyter": {
          "source_hidden": false,
          "outputs_hidden": false
        },
        "nteract": {
          "transient": {
            "deleting": false
          }
        },
        "gather": {
          "logged": 1605043299690
        }
      }
    },
    {
      "cell_type": "code",
      "source": [
        "plt.figure(figsize=(16,6))\n",
        "plt.plot(refit_['count'])\n",
        "plt.plot(predictions_refit)\n",
        "#plt.plot(train_['count'])\n",
        "plt.title('SARIMAX - Precovid')\n",
        "plt.legend(['Test Data', 'Predictions'])"
      ],
      "outputs": [],
      "execution_count": null,
      "metadata": {
        "collapsed": true,
        "jupyter": {
          "source_hidden": false,
          "outputs_hidden": false
        },
        "nteract": {
          "transient": {
            "deleting": false
          }
        },
        "gather": {
          "logged": 1605043302198
        }
      }
    },
    {
      "cell_type": "code",
      "source": [],
      "outputs": [],
      "execution_count": null,
      "metadata": {
        "collapsed": true,
        "jupyter": {
          "source_hidden": false,
          "outputs_hidden": false
        },
        "nteract": {
          "transient": {
            "deleting": false
          }
        }
      }
    },
    {
      "cell_type": "code",
      "source": [],
      "outputs": [],
      "execution_count": null,
      "metadata": {
        "collapsed": true,
        "jupyter": {
          "source_hidden": false,
          "outputs_hidden": false
        },
        "nteract": {
          "transient": {
            "deleting": false
          }
        }
      }
    }
  ],
  "metadata": {
    "kernelspec": {
      "name": "python3-azureml",
      "language": "python",
      "display_name": "Python 3.6 - AzureML"
    },
    "language_info": {
      "name": "python",
      "version": "3.6.9",
      "mimetype": "text/x-python",
      "codemirror_mode": {
        "name": "ipython",
        "version": 3
      },
      "pygments_lexer": "ipython3",
      "nbconvert_exporter": "python",
      "file_extension": ".py"
    },
    "kernel_info": {
      "name": "python3-azureml"
    },
    "nteract": {
      "version": "nteract-front-end@1.0.0"
    }
  },
  "nbformat": 4,
  "nbformat_minor": 2
}