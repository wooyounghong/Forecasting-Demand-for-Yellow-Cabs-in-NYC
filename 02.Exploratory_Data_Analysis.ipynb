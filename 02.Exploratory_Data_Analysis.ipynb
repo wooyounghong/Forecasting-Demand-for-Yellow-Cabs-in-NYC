{
  "cells": [
    {
      "cell_type": "markdown",
      "source": [
        "# EDA PROCESS: "
      ],
      "metadata": {
        "nteract": {
          "transient": {
            "deleting": false
          }
        }
      }
    },
    {
      "cell_type": "markdown",
      "source": [
        "### Import the libraries:"
      ],
      "metadata": {
        "nteract": {
          "transient": {
            "deleting": false
          }
        }
      }
    },
    {
      "cell_type": "code",
      "source": [
        "import pandas as pd\n",
        "import numpy as np\n",
        "import matplotlib.pyplot as plt\n",
        "import seaborn as sns\n",
        "\n",
        "np.random.seed(365)\n",
        "import pickle\n",
        "import warnings\n",
        "warnings.filterwarnings(\"ignore\")"
      ],
      "outputs": [],
      "execution_count": 1,
      "metadata": {
        "collapsed": true,
        "jupyter": {
          "source_hidden": false,
          "outputs_hidden": false
        },
        "nteract": {
          "transient": {
            "deleting": false
          }
        },
        "gather": {
          "logged": 1605083056918
        }
      }
    },
    {
      "cell_type": "markdown",
      "source": [
        "### Read in the cleaned datasets by boroughs and combined as one."
      ],
      "metadata": {
        "nteract": {
          "transient": {
            "deleting": false
          }
        }
      }
    },
    {
      "cell_type": "markdown",
      "source": [
        "##### For time-series data:"
      ],
      "metadata": {
        "nteract": {
          "transient": {
            "deleting": false
          }
        }
      }
    },
    {
      "cell_type": "code",
      "source": [
        "all_df = pickle.load(open('./data/final_cleaned_data/all_cleaned_data.pkl','rb'))\n",
        "bronx_df = pickle.load(open('./data/final_cleaned_data/bronx_cleaned_data.pkl','rb'))\n",
        "brooklyn_df = pickle.load(open('./data/final_cleaned_data/brooklyn_cleaned_data.pkl','rb'))\n",
        "manhattan_df = pickle.load(open('./data/final_cleaned_data/manhattan_cleaned_data.pkl','rb'))\n",
        "queens_df = pickle.load(open('./data/final_cleaned_data/queens_cleaned_data.pkl','rb'))\n",
        "staten_df = pickle.load(open('./data/final_cleaned_data/staten_cleaned_data.pkl','rb'))"
      ],
      "outputs": [],
      "execution_count": 2,
      "metadata": {
        "collapsed": true,
        "jupyter": {
          "source_hidden": false,
          "outputs_hidden": false
        },
        "nteract": {
          "transient": {
            "deleting": false
          }
        },
        "gather": {
          "logged": 1605083057069
        }
      }
    },
    {
      "cell_type": "markdown",
      "source": [
        "##### Let's see if the data looks correct in terms of our pick up times ranging from June 01 2019 to June 30 2020"
      ],
      "metadata": {
        "nteract": {
          "transient": {
            "deleting": false
          }
        }
      }
    },
    {
      "cell_type": "code",
      "source": [
        "all_df"
      ],
      "outputs": [
        {
          "output_type": "execute_result",
          "execution_count": 3,
          "data": {
            "text/plain": "                     count\npickup_time               \n2019-06-01 00:00:00  11815\n2019-06-01 01:00:00   9121\n2019-06-01 02:00:00   6608\n2019-06-01 03:00:00   4591\n2019-06-01 04:00:00   3197\n...                    ...\n2020-06-30 19:00:00   1189\n2020-06-30 20:00:00    797\n2020-06-30 21:00:00    631\n2020-06-30 22:00:00    548\n2020-06-30 23:00:00    445\n\n[9504 rows x 1 columns]",
            "text/html": "<div>\n<style scoped>\n    .dataframe tbody tr th:only-of-type {\n        vertical-align: middle;\n    }\n\n    .dataframe tbody tr th {\n        vertical-align: top;\n    }\n\n    .dataframe thead th {\n        text-align: right;\n    }\n</style>\n<table border=\"1\" class=\"dataframe\">\n  <thead>\n    <tr style=\"text-align: right;\">\n      <th></th>\n      <th>count</th>\n    </tr>\n    <tr>\n      <th>pickup_time</th>\n      <th></th>\n    </tr>\n  </thead>\n  <tbody>\n    <tr>\n      <th>2019-06-01 00:00:00</th>\n      <td>11815</td>\n    </tr>\n    <tr>\n      <th>2019-06-01 01:00:00</th>\n      <td>9121</td>\n    </tr>\n    <tr>\n      <th>2019-06-01 02:00:00</th>\n      <td>6608</td>\n    </tr>\n    <tr>\n      <th>2019-06-01 03:00:00</th>\n      <td>4591</td>\n    </tr>\n    <tr>\n      <th>2019-06-01 04:00:00</th>\n      <td>3197</td>\n    </tr>\n    <tr>\n      <th>...</th>\n      <td>...</td>\n    </tr>\n    <tr>\n      <th>2020-06-30 19:00:00</th>\n      <td>1189</td>\n    </tr>\n    <tr>\n      <th>2020-06-30 20:00:00</th>\n      <td>797</td>\n    </tr>\n    <tr>\n      <th>2020-06-30 21:00:00</th>\n      <td>631</td>\n    </tr>\n    <tr>\n      <th>2020-06-30 22:00:00</th>\n      <td>548</td>\n    </tr>\n    <tr>\n      <th>2020-06-30 23:00:00</th>\n      <td>445</td>\n    </tr>\n  </tbody>\n</table>\n<p>9504 rows × 1 columns</p>\n</div>"
          },
          "metadata": {}
        }
      ],
      "execution_count": 3,
      "metadata": {
        "collapsed": true,
        "jupyter": {
          "source_hidden": false,
          "outputs_hidden": false
        },
        "nteract": {
          "transient": {
            "deleting": false
          }
        },
        "gather": {
          "logged": 1605083057250
        }
      }
    },
    {
      "cell_type": "markdown",
      "source": [
        "### Showing Hourly Number of Pickups in all of NYC."
      ],
      "metadata": {
        "nteract": {
          "transient": {
            "deleting": false
          }
        }
      }
    },
    {
      "cell_type": "code",
      "source": [
        "all_hourly = all_df[['count']].pivot_table(index=all_df.index.date, columns=all_df.index.hour).fillna(0)\n",
        "\n",
        "brooklyn_hourly = brooklyn_df[['count']].pivot_table(index=brooklyn_df.index.date, columns=brooklyn_df.index.hour).fillna(0)\n",
        "manhattan_hourly = manhattan_df[['count']].pivot_table(index=manhattan_df.index.date, columns=manhattan_df.index.hour).fillna(0)\n",
        "bronx_hourly = bronx_df[['count']].pivot_table(index=bronx_df.index.date, columns=bronx_df.index.hour).fillna(0)\n",
        "staten_hourly = staten_df[['count']].pivot_table(index=staten_df.index.date, columns=staten_df.index.hour).fillna(0)\n",
        "queens_hourly = queens_df[['count']].pivot_table(index=queens_df.index.date, columns=queens_df.index.hour).fillna(0)\n",
        "\n",
        "manhattan_hourly"
      ],
      "outputs": [
        {
          "output_type": "execute_result",
          "execution_count": 4,
          "data": {
            "text/plain": "             count                                                           \\\npickup_time     0     1     2     3     4     5     6      7      8      9    \n2019-06-01   10744  8371  6212  4319  2921  1515  2142   3797   5953   8583   \n2019-06-02   11117  8981  6815  4868  2999  1504  1732   3041   4443   6395   \n2019-06-03    2858  1787  1118   779   998  1948  5442   9578  11303  10342   \n2019-06-04    3853  1952  1219   756   964  1976  5297   8482   9806   9812   \n2019-06-05    4749  2534  1560  1019  1004  2016  5795  10444  12702  11776   \n...            ...   ...   ...   ...   ...   ...   ...    ...    ...    ...   \n2020-06-26     271   179   133   102   118   215   599    807   1095   1151   \n2020-06-27     466   320   229   147   127   113   258    344    458    648   \n2020-06-28     420   298   227   127   105   106   206    262    333    412   \n2020-06-29     243   161   128    91   106   195   637    859   1134   1259   \n2020-06-30     186   138    94    78   109   175   584    861   1162   1321   \n\n             ...                                                          \\\npickup_time  ...     14     15     16     17     18     19     20     21   \n2019-06-01   ...  12864  12060  11668  13011  13453  12797  10388  10799   \n2019-06-02   ...  10823  10467  11037  12909  10174   9171   7870   8981   \n2019-06-03   ...  11261  11781  11137  12747  14114  12926  11428  12294   \n2019-06-04   ...  11580  12021  11368  12942  14702  13889  12191  12135   \n2019-06-05   ...  12799  13051  11400  13173  15488  14916  13738  14258   \n...          ...    ...    ...    ...    ...    ...    ...    ...    ...   \n2020-06-26   ...   1685   1718   1636   1708   1604   1326    911    746   \n2020-06-27   ...   1253   1186    940    922    878    794    630    562   \n2020-06-28   ...    938   1034    988    891   1051    878    582    483   \n2020-06-29   ...   1653   1630   1684   1671   1808   1123    661    517   \n2020-06-30   ...   1607   1644   1587   1604   1512   1130    730    553   \n\n                           \npickup_time     22     23  \n2019-06-01   12534  13090  \n2019-06-02    8526   5032  \n2019-06-03   10458   6563  \n2019-06-04   10683   8163  \n2019-06-05   12898   9080  \n...            ...    ...  \n2020-06-26     680    641  \n2020-06-27     551    591  \n2020-06-28     448    318  \n2020-06-29     419    310  \n2020-06-30     466    354  \n\n[396 rows x 24 columns]",
            "text/html": "<div>\n<style scoped>\n    .dataframe tbody tr th:only-of-type {\n        vertical-align: middle;\n    }\n\n    .dataframe tbody tr th {\n        vertical-align: top;\n    }\n\n    .dataframe thead tr th {\n        text-align: left;\n    }\n</style>\n<table border=\"1\" class=\"dataframe\">\n  <thead>\n    <tr>\n      <th></th>\n      <th colspan=\"21\" halign=\"left\">count</th>\n    </tr>\n    <tr>\n      <th>pickup_time</th>\n      <th>0</th>\n      <th>1</th>\n      <th>2</th>\n      <th>3</th>\n      <th>4</th>\n      <th>5</th>\n      <th>6</th>\n      <th>7</th>\n      <th>8</th>\n      <th>9</th>\n      <th>...</th>\n      <th>14</th>\n      <th>15</th>\n      <th>16</th>\n      <th>17</th>\n      <th>18</th>\n      <th>19</th>\n      <th>20</th>\n      <th>21</th>\n      <th>22</th>\n      <th>23</th>\n    </tr>\n  </thead>\n  <tbody>\n    <tr>\n      <th>2019-06-01</th>\n      <td>10744</td>\n      <td>8371</td>\n      <td>6212</td>\n      <td>4319</td>\n      <td>2921</td>\n      <td>1515</td>\n      <td>2142</td>\n      <td>3797</td>\n      <td>5953</td>\n      <td>8583</td>\n      <td>...</td>\n      <td>12864</td>\n      <td>12060</td>\n      <td>11668</td>\n      <td>13011</td>\n      <td>13453</td>\n      <td>12797</td>\n      <td>10388</td>\n      <td>10799</td>\n      <td>12534</td>\n      <td>13090</td>\n    </tr>\n    <tr>\n      <th>2019-06-02</th>\n      <td>11117</td>\n      <td>8981</td>\n      <td>6815</td>\n      <td>4868</td>\n      <td>2999</td>\n      <td>1504</td>\n      <td>1732</td>\n      <td>3041</td>\n      <td>4443</td>\n      <td>6395</td>\n      <td>...</td>\n      <td>10823</td>\n      <td>10467</td>\n      <td>11037</td>\n      <td>12909</td>\n      <td>10174</td>\n      <td>9171</td>\n      <td>7870</td>\n      <td>8981</td>\n      <td>8526</td>\n      <td>5032</td>\n    </tr>\n    <tr>\n      <th>2019-06-03</th>\n      <td>2858</td>\n      <td>1787</td>\n      <td>1118</td>\n      <td>779</td>\n      <td>998</td>\n      <td>1948</td>\n      <td>5442</td>\n      <td>9578</td>\n      <td>11303</td>\n      <td>10342</td>\n      <td>...</td>\n      <td>11261</td>\n      <td>11781</td>\n      <td>11137</td>\n      <td>12747</td>\n      <td>14114</td>\n      <td>12926</td>\n      <td>11428</td>\n      <td>12294</td>\n      <td>10458</td>\n      <td>6563</td>\n    </tr>\n    <tr>\n      <th>2019-06-04</th>\n      <td>3853</td>\n      <td>1952</td>\n      <td>1219</td>\n      <td>756</td>\n      <td>964</td>\n      <td>1976</td>\n      <td>5297</td>\n      <td>8482</td>\n      <td>9806</td>\n      <td>9812</td>\n      <td>...</td>\n      <td>11580</td>\n      <td>12021</td>\n      <td>11368</td>\n      <td>12942</td>\n      <td>14702</td>\n      <td>13889</td>\n      <td>12191</td>\n      <td>12135</td>\n      <td>10683</td>\n      <td>8163</td>\n    </tr>\n    <tr>\n      <th>2019-06-05</th>\n      <td>4749</td>\n      <td>2534</td>\n      <td>1560</td>\n      <td>1019</td>\n      <td>1004</td>\n      <td>2016</td>\n      <td>5795</td>\n      <td>10444</td>\n      <td>12702</td>\n      <td>11776</td>\n      <td>...</td>\n      <td>12799</td>\n      <td>13051</td>\n      <td>11400</td>\n      <td>13173</td>\n      <td>15488</td>\n      <td>14916</td>\n      <td>13738</td>\n      <td>14258</td>\n      <td>12898</td>\n      <td>9080</td>\n    </tr>\n    <tr>\n      <th>...</th>\n      <td>...</td>\n      <td>...</td>\n      <td>...</td>\n      <td>...</td>\n      <td>...</td>\n      <td>...</td>\n      <td>...</td>\n      <td>...</td>\n      <td>...</td>\n      <td>...</td>\n      <td>...</td>\n      <td>...</td>\n      <td>...</td>\n      <td>...</td>\n      <td>...</td>\n      <td>...</td>\n      <td>...</td>\n      <td>...</td>\n      <td>...</td>\n      <td>...</td>\n      <td>...</td>\n    </tr>\n    <tr>\n      <th>2020-06-26</th>\n      <td>271</td>\n      <td>179</td>\n      <td>133</td>\n      <td>102</td>\n      <td>118</td>\n      <td>215</td>\n      <td>599</td>\n      <td>807</td>\n      <td>1095</td>\n      <td>1151</td>\n      <td>...</td>\n      <td>1685</td>\n      <td>1718</td>\n      <td>1636</td>\n      <td>1708</td>\n      <td>1604</td>\n      <td>1326</td>\n      <td>911</td>\n      <td>746</td>\n      <td>680</td>\n      <td>641</td>\n    </tr>\n    <tr>\n      <th>2020-06-27</th>\n      <td>466</td>\n      <td>320</td>\n      <td>229</td>\n      <td>147</td>\n      <td>127</td>\n      <td>113</td>\n      <td>258</td>\n      <td>344</td>\n      <td>458</td>\n      <td>648</td>\n      <td>...</td>\n      <td>1253</td>\n      <td>1186</td>\n      <td>940</td>\n      <td>922</td>\n      <td>878</td>\n      <td>794</td>\n      <td>630</td>\n      <td>562</td>\n      <td>551</td>\n      <td>591</td>\n    </tr>\n    <tr>\n      <th>2020-06-28</th>\n      <td>420</td>\n      <td>298</td>\n      <td>227</td>\n      <td>127</td>\n      <td>105</td>\n      <td>106</td>\n      <td>206</td>\n      <td>262</td>\n      <td>333</td>\n      <td>412</td>\n      <td>...</td>\n      <td>938</td>\n      <td>1034</td>\n      <td>988</td>\n      <td>891</td>\n      <td>1051</td>\n      <td>878</td>\n      <td>582</td>\n      <td>483</td>\n      <td>448</td>\n      <td>318</td>\n    </tr>\n    <tr>\n      <th>2020-06-29</th>\n      <td>243</td>\n      <td>161</td>\n      <td>128</td>\n      <td>91</td>\n      <td>106</td>\n      <td>195</td>\n      <td>637</td>\n      <td>859</td>\n      <td>1134</td>\n      <td>1259</td>\n      <td>...</td>\n      <td>1653</td>\n      <td>1630</td>\n      <td>1684</td>\n      <td>1671</td>\n      <td>1808</td>\n      <td>1123</td>\n      <td>661</td>\n      <td>517</td>\n      <td>419</td>\n      <td>310</td>\n    </tr>\n    <tr>\n      <th>2020-06-30</th>\n      <td>186</td>\n      <td>138</td>\n      <td>94</td>\n      <td>78</td>\n      <td>109</td>\n      <td>175</td>\n      <td>584</td>\n      <td>861</td>\n      <td>1162</td>\n      <td>1321</td>\n      <td>...</td>\n      <td>1607</td>\n      <td>1644</td>\n      <td>1587</td>\n      <td>1604</td>\n      <td>1512</td>\n      <td>1130</td>\n      <td>730</td>\n      <td>553</td>\n      <td>466</td>\n      <td>354</td>\n    </tr>\n  </tbody>\n</table>\n<p>396 rows × 24 columns</p>\n</div>"
          },
          "metadata": {}
        }
      ],
      "execution_count": 4,
      "metadata": {
        "collapsed": true,
        "jupyter": {
          "source_hidden": false,
          "outputs_hidden": false
        },
        "nteract": {
          "transient": {
            "deleting": false
          }
        },
        "gather": {
          "logged": 1605083057544
        }
      }
    },
    {
      "cell_type": "markdown",
      "source": [
        "## Visualizations"
      ],
      "metadata": {
        "nteract": {
          "transient": {
            "deleting": false
          }
        }
      }
    },
    {
      "cell_type": "markdown",
      "source": [
        "### Boroughs Distribution"
      ],
      "metadata": {
        "nteract": {
          "transient": {
            "deleting": false
          }
        }
      }
    },
    {
      "cell_type": "markdown",
      "source": [
        "Let's see which boroughs are most populated vs not and see how they are distributed."
      ],
      "metadata": {
        "nteract": {
          "transient": {
            "deleting": false
          }
        }
      }
    },
    {
      "cell_type": "code",
      "source": [
        "# import all_data\n",
        "all_data = pickle.load(open('./data/final_cleaned_data/all_not_ts.pkl','rb'))\n",
        "all_data = all_data[all_data['Borough'] != 'nan']\n",
        "print(len(all_data))\n",
        "all_data.Borough.value_counts()\n"
      ],
      "outputs": [],
      "execution_count": 5,
      "metadata": {
        "collapsed": true,
        "jupyter": {
          "source_hidden": false,
          "outputs_hidden": false
        },
        "nteract": {
          "transient": {
            "deleting": false
          }
        },
        "gather": {
          "logged": 1605080877234
        }
      }
    },
    {
      "cell_type": "code",
      "source": [
        "fig = plt.figure(figsize=(16, 5))\n",
        "ax = fig.add_axes([0,0,1,1])\n",
        "x = all_data['Borough'].unique()\n",
        "y = [len(all_data[all_data['Borough'] == 'Manhattan']), len(all_data[all_data['Borough'] == 'Queens']), len(all_data[all_data['Borough'] == 'Bronx']), len(all_data[all_data['Borough'] == 'Brooklyn']), len(all_data[all_data['Borough'] == 'Staten Island'])]\n",
        "plt.title('Distribution of Boroughs')\n",
        "ax.bar(x,y);"
      ],
      "outputs": [],
      "execution_count": null,
      "metadata": {
        "collapsed": true,
        "jupyter": {
          "source_hidden": false,
          "outputs_hidden": false
        },
        "nteract": {
          "transient": {
            "deleting": false
          }
        },
        "gather": {
          "logged": 1605080898403
        }
      }
    },
    {
      "cell_type": "markdown",
      "source": [
        "In the beginning, I was surprised at how much more pickups are located in Manhattan than any other boroughs. But this made sense as the dataset consists of only yellow cabs. If I had included green cabs dataset, I would get more diverse boroughs as their pick up location. For this reason is why I will make separate models for each borough later in modeling process"
      ],
      "metadata": {
        "nteract": {
          "transient": {
            "deleting": false
          }
        }
      }
    },
    {
      "cell_type": "markdown",
      "source": [
        "Let's plot out all of NYC to see year distribution for number of pickups in NYC"
      ],
      "metadata": {
        "nteract": {
          "transient": {
            "deleting": false
          }
        }
      }
    },
    {
      "cell_type": "code",
      "source": [
        "fig, ax = plt.subplots(figsize = (25,6))\n",
        "all_df.plot(ax=ax, color='g')\n",
        "plt.xlabel('Monthly')\n",
        "plt.ylabel('Number of Pickups')\n",
        "plt.legend(['Number of Pickups in NYC'])\n",
        "plt.title('Number of Pickups in NYC  (from June 2019 to June 2020)');"
      ],
      "outputs": [],
      "execution_count": null,
      "metadata": {
        "collapsed": true,
        "jupyter": {
          "source_hidden": false,
          "outputs_hidden": false
        },
        "nteract": {
          "transient": {
            "deleting": false
          }
        },
        "gather": {
          "logged": 1605080899236
        }
      }
    },
    {
      "cell_type": "markdown",
      "source": [
        "#### We can see that there was a sharp decline in demand for yellow cabs in NYC after March. This is when Corona Virus started becoming an issue and the NYC had a first confirmed case of COVID in March 1st 2020. "
      ],
      "metadata": {
        "nteract": {
          "transient": {
            "deleting": false
          }
        }
      }
    },
    {
      "cell_type": "markdown",
      "source": [
        "#### Manhattan Distribution"
      ],
      "metadata": {
        "nteract": {
          "transient": {
            "deleting": false
          }
        }
      }
    },
    {
      "cell_type": "code",
      "source": [
        "fig, ax = plt.subplots(figsize = (25,6))\n",
        "manhattan_df.plot(ax=ax, color='r')\n",
        "plt.xlabel('Monthly')\n",
        "plt.ylabel('Number of Pickups')\n",
        "plt.legend(['Number of Pickups in Manhattan'])\n",
        "plt.title('Number of Pickups in Manhattan  (from June 2019 to June 2020)');"
      ],
      "outputs": [],
      "execution_count": null,
      "metadata": {
        "collapsed": true,
        "jupyter": {
          "source_hidden": false,
          "outputs_hidden": false
        },
        "nteract": {
          "transient": {
            "deleting": false
          }
        },
        "gather": {
          "logged": 1605080899676
        }
      }
    },
    {
      "cell_type": "markdown",
      "source": [
        "#### Brooklyn Distribution"
      ],
      "metadata": {
        "nteract": {
          "transient": {
            "deleting": false
          }
        }
      }
    },
    {
      "cell_type": "code",
      "source": [
        "fig, ax = plt.subplots(figsize = (25,6))\n",
        "brooklyn_df.plot(ax=ax, color='b')\n",
        "plt.xlabel('Monthly')\n",
        "plt.ylabel('Number of Pickups')\n",
        "plt.legend(['Number of Pickups in Brooklyn'])\n",
        "plt.title('Number of Pickups in Brooklyn  (from June 2019 to June 2020)');"
      ],
      "outputs": [],
      "execution_count": null,
      "metadata": {
        "collapsed": true,
        "jupyter": {
          "source_hidden": false,
          "outputs_hidden": false
        },
        "nteract": {
          "transient": {
            "deleting": false
          }
        },
        "gather": {
          "logged": 1605080900188
        }
      }
    },
    {
      "cell_type": "markdown",
      "source": [
        "Few things to note for Brooklyn vs Manhattan for yellow cab pickup is that Brooklyn has alot less number of pickups in the area. This is probably due to yellow cabs in Manhattan being strictly for Manhattan Area. The other is to note on January 1st is when the number of pickups is highest. Clearly, COVID is hurting the yellow cab drivers. But for January first, Brooklyn has alot of New Years event such as clubs and bars so there might be a high number of pickups that day"
      ],
      "metadata": {
        "nteract": {
          "transient": {
            "deleting": false
          }
        }
      }
    },
    {
      "cell_type": "markdown",
      "source": [
        "### Queens Distribution"
      ],
      "metadata": {
        "nteract": {
          "transient": {
            "deleting": false
          }
        }
      }
    },
    {
      "cell_type": "code",
      "source": [
        "fig, ax = plt.subplots(figsize = (25,6))\n",
        "queens_df.plot(ax=ax, color='y')\n",
        "plt.xlabel('Monthly')\n",
        "plt.ylabel('Number of Pickups')\n",
        "plt.legend(['Number of Pickups in Queens'])\n",
        "plt.title('Number of Pickups in Queens(from June 2019 to June 2020)');"
      ],
      "outputs": [],
      "execution_count": null,
      "metadata": {
        "collapsed": true,
        "jupyter": {
          "source_hidden": false,
          "outputs_hidden": false
        },
        "nteract": {
          "transient": {
            "deleting": false
          }
        },
        "gather": {
          "logged": 1605080900785
        }
      }
    },
    {
      "cell_type": "markdown",
      "source": [
        "### Bronx Distribution"
      ],
      "metadata": {
        "nteract": {
          "transient": {
            "deleting": false
          }
        }
      }
    },
    {
      "cell_type": "code",
      "source": [
        "fig, ax = plt.subplots(figsize = (25,6))\n",
        "bronx_df.plot(ax=ax, color='purple')\n",
        "plt.xlabel('Monthly')\n",
        "plt.ylabel('Number of Pickups')\n",
        "plt.legend(['Number of Pickups in Bronx'])\n",
        "plt.title('Number of Pickups in Bronx  (from June 2019 to June 2020)');"
      ],
      "outputs": [],
      "execution_count": null,
      "metadata": {
        "collapsed": true,
        "jupyter": {
          "source_hidden": false,
          "outputs_hidden": false
        },
        "nteract": {
          "transient": {
            "deleting": false
          }
        },
        "gather": {
          "logged": 1605080901548
        }
      }
    },
    {
      "cell_type": "markdown",
      "source": [
        "### Staten Distribution"
      ],
      "metadata": {
        "nteract": {
          "transient": {
            "deleting": false
          }
        }
      }
    },
    {
      "cell_type": "code",
      "source": [
        "fig, ax = plt.subplots(figsize = (25,6))\n",
        "staten_df.plot(ax=ax, color='teal')\n",
        "plt.xlabel('Monthly')\n",
        "plt.ylabel('Number of Pickups')\n",
        "plt.legend(['Number of Pickups in Staten Island'])\n",
        "plt.title('Number of Pickups in Staten Island  (from June 2019 to June 2020)');"
      ],
      "outputs": [],
      "execution_count": null,
      "metadata": {
        "collapsed": true,
        "jupyter": {
          "source_hidden": false,
          "outputs_hidden": false
        },
        "nteract": {
          "transient": {
            "deleting": false
          }
        },
        "gather": {
          "logged": 1605080901738
        }
      }
    },
    {
      "cell_type": "markdown",
      "source": [
        "There are not alot of pickups in Staten Island overall but one thing to note is that it starts to increase after May of 2020. "
      ],
      "metadata": {
        "nteract": {
          "transient": {
            "deleting": false
          }
        }
      }
    },
    {
      "cell_type": "markdown",
      "source": [
        "## Weekly Distribution"
      ],
      "metadata": {
        "nteract": {
          "transient": {
            "deleting": false
          }
        }
      }
    },
    {
      "cell_type": "markdown",
      "source": [
        "Now, let's see how it looks if we were to choose a random month to see weekly plot! We will choose January of 2020 to see the plot in Manhattan."
      ],
      "metadata": {
        "nteract": {
          "transient": {
            "deleting": false
          }
        }
      }
    },
    {
      "cell_type": "code",
      "source": [
        "man_jan_df = pickle.load(open('./data/boroughs_df/manhattan_2020_01.pkl','rb'))\n",
        "# jan_df.drop(columns=['Unnamed: 0'], inplace=True)\n",
        "man_jan_df\n"
      ],
      "outputs": [],
      "execution_count": null,
      "metadata": {
        "collapsed": true,
        "jupyter": {
          "source_hidden": false,
          "outputs_hidden": false
        },
        "nteract": {
          "transient": {
            "deleting": false
          }
        },
        "gather": {
          "logged": 1605080901835
        }
      }
    },
    {
      "cell_type": "code",
      "source": [
        "jan_first_week = man_jan_df.iloc[:168].reset_index(drop=True)\n",
        "jan_second_week = man_jan_df.iloc[168:336].reset_index(drop=True)\n",
        "jan_third_week = man_jan_df.iloc[336:504].reset_index(drop=True)\n",
        "jan_fourth_week = man_jan_df.iloc[504:672].reset_index(drop=True)\n",
        "jan_fifth_week = man_jan_df.iloc[672:].reset_index(drop=True)"
      ],
      "outputs": [],
      "execution_count": null,
      "metadata": {
        "collapsed": true,
        "jupyter": {
          "source_hidden": false,
          "outputs_hidden": false
        },
        "nteract": {
          "transient": {
            "deleting": false
          }
        },
        "gather": {
          "logged": 1605080901886
        }
      }
    },
    {
      "cell_type": "code",
      "source": [
        "fig, ax = plt.subplots(figsize = (18,4))\n",
        "jan_first_week.plot(ax=ax, color='g', label='First Week')\n",
        "jan_second_week.plot(ax=ax)\n",
        "jan_third_week.plot(ax=ax, color='r')\n",
        "jan_fourth_week.plot(ax=ax, color='pink')\n",
        "jan_fifth_week.plot(ax=ax, color='purple')\n",
        "plt.xlabel('Number of Hours in A Week')\n",
        "plt.ylabel('Number of Pickups')\n",
        "plt.xticks([0, 24, 48, 72, 96, 120, 144, 168], ['Weds', 'Thurs', 'Fri', 'Sat', 'Sun', 'Mon', 'Tues', 'Weds'],)\n",
        "plt.legend(['First Week', 'Second Week', 'Third Week', 'Fourth week', 'Fifth Week'])\n",
        "plt.title('Number of Pickups in Manhattan by hour in a Week');"
      ],
      "outputs": [],
      "execution_count": null,
      "metadata": {
        "collapsed": true,
        "jupyter": {
          "source_hidden": false,
          "outputs_hidden": false
        },
        "nteract": {
          "transient": {
            "deleting": false
          }
        },
        "gather": {
          "logged": 1605080902165
        }
      }
    },
    {
      "cell_type": "markdown",
      "source": [
        "We can see here that every day of the week seems very simliar except for the first week of January which is the green line. But it does get to similiar as other weeks as days go by possibly because January 1st is the New Year and companies are off during holiday season."
      ],
      "metadata": {
        "nteract": {
          "transient": {
            "deleting": false
          }
        }
      }
    },
    {
      "cell_type": "markdown",
      "source": [
        "#### Distribution of time in the day\n"
      ],
      "metadata": {
        "nteract": {
          "transient": {
            "deleting": false
          }
        }
      }
    },
    {
      "cell_type": "markdown",
      "source": [
        "Let's what time during the week will be the hot time for cab pick up. Here I will use the Weds of third week in January as an example"
      ],
      "metadata": {
        "nteract": {
          "transient": {
            "deleting": false
          }
        }
      }
    },
    {
      "cell_type": "code",
      "source": [
        "fig, ax = plt.subplots(figsize = (18,4))\n",
        "jan_third_week.iloc[:24].plot(ax=ax);\n",
        "plt.legend(['Jan 15th'])\n",
        "plt.xlabel('Hours')\n",
        "plt.ylabel('Number of Pickups')\n",
        "plt.title('January 15th (Weds) Distribution by Hour in Manhattan');"
      ],
      "outputs": [],
      "execution_count": null,
      "metadata": {
        "collapsed": true,
        "jupyter": {
          "source_hidden": false,
          "outputs_hidden": false
        },
        "nteract": {
          "transient": {
            "deleting": false
          }
        },
        "gather": {
          "logged": 1605080902466
        }
      }
    },
    {
      "cell_type": "code",
      "source": [
        "jan_third_week[:24]['count'].max()"
      ],
      "outputs": [],
      "execution_count": null,
      "metadata": {
        "collapsed": true,
        "jupyter": {
          "source_hidden": false,
          "outputs_hidden": false
        },
        "nteract": {
          "transient": {
            "deleting": false
          }
        },
        "gather": {
          "logged": 1605080902822
        }
      }
    },
    {
      "cell_type": "code",
      "source": [
        "jan_third_week[jan_third_week['count'].eq(14151)]"
      ],
      "outputs": [],
      "execution_count": null,
      "metadata": {
        "collapsed": true,
        "jupyter": {
          "source_hidden": false,
          "outputs_hidden": false
        },
        "nteract": {
          "transient": {
            "deleting": false
          }
        },
        "gather": {
          "logged": 1605080902888
        }
      }
    },
    {
      "cell_type": "markdown",
      "source": [
        "We can see from our visualization that at hour 18 is when the pickups are around 15107 which is at 6PM. This is due to people probably ending work and going home. Also, can see that starting around 5-8AM is when the number of pickups increase and stay around that number until the pickup so we know that taxi drivers are most needed from 7AM to 10PM."
      ],
      "metadata": {
        "nteract": {
          "transient": {
            "deleting": false
          }
        }
      }
    },
    {
      "cell_type": "markdown",
      "source": [
        "### AFTER LOCKDOWN (COVID):  MANHATTAN"
      ],
      "metadata": {
        "nteract": {
          "transient": {
            "deleting": false
          }
        }
      }
    },
    {
      "cell_type": "code",
      "source": [
        "# Load April data in Manhattan\n",
        "man_april_df = pickle.load(open('./data/boroughs_df/manhattan_2020_04.pkl','rb'))\n",
        "man_april_df"
      ],
      "outputs": [],
      "execution_count": null,
      "metadata": {
        "collapsed": true,
        "jupyter": {
          "source_hidden": false,
          "outputs_hidden": false
        },
        "nteract": {
          "transient": {
            "deleting": false
          }
        },
        "gather": {
          "logged": 1605080902945
        }
      }
    },
    {
      "cell_type": "code",
      "source": [],
      "outputs": [],
      "execution_count": null,
      "metadata": {
        "collapsed": true,
        "jupyter": {
          "source_hidden": false,
          "outputs_hidden": false
        },
        "nteract": {
          "transient": {
            "deleting": false
          }
        },
        "gather": {
          "logged": 1605081183861
        }
      }
    },
    {
      "cell_type": "code",
      "source": [
        "april_first_week = man_april_df.iloc[:168].reset_index(drop=True)\n",
        "april_second_week = man_april_df.iloc[168:336].reset_index(drop=True)\n",
        "april_third_week = man_april_df.iloc[336:504].reset_index(drop=True)\n",
        "april_fourth_week = man_april_df.iloc[504:672].reset_index(drop=True)\n",
        "april_fifth_week = man_april_df.iloc[672:].reset_index(drop=True)"
      ],
      "outputs": [],
      "execution_count": null,
      "metadata": {
        "collapsed": true,
        "jupyter": {
          "source_hidden": false,
          "outputs_hidden": false
        },
        "nteract": {
          "transient": {
            "deleting": false
          }
        },
        "gather": {
          "logged": 1605082469313
        }
      }
    },
    {
      "cell_type": "code",
      "source": [
        "fig, ax = plt.subplots(figsize = (18,4))\n",
        "april_first_week.plot(ax=ax, color='g', label='First Week')\n",
        "april_second_week.plot(ax=ax)\n",
        "april_third_week.plot(ax=ax, color='r')\n",
        "april_fourth_week.plot(ax=ax, color='pink')\n",
        "april_fifth_week.plot(ax=ax, color='purple')\n",
        "plt.xlabel('Number of Hours in A Week')\n",
        "plt.ylabel('Number of Pickups')\n",
        "plt.xticks([0, 24, 48, 72, 96, 120, 144, 168], ['Weds', 'Thurs', 'Fri', 'Sat', 'Sun', 'Mon', 'Tues', 'Weds'],)\n",
        "plt.legend(['First Week', 'Second Week', 'Third Week', 'Fourth week', 'Fifth Week'])\n",
        "plt.title('April Distribution by weekly');"
      ],
      "outputs": [],
      "execution_count": null,
      "metadata": {
        "collapsed": true,
        "jupyter": {
          "source_hidden": false,
          "outputs_hidden": false
        },
        "nteract": {
          "transient": {
            "deleting": false
          }
        },
        "gather": {
          "logged": 1605082515221
        }
      }
    },
    {
      "cell_type": "markdown",
      "source": [
        "There is no really big abnormalities as the trend seem to be similar throughout the week of April in terms of number of rides. Let's see if we can see how the distribution look for First week of April on Friday."
      ],
      "metadata": {
        "nteract": {
          "transient": {
            "deleting": false
          }
        }
      }
    },
    {
      "cell_type": "code",
      "source": [
        "man_april_df.iloc[48:72]"
      ],
      "outputs": [],
      "execution_count": null,
      "metadata": {
        "collapsed": true,
        "jupyter": {
          "source_hidden": false,
          "outputs_hidden": false
        },
        "nteract": {
          "transient": {
            "deleting": false
          }
        },
        "gather": {
          "logged": 1605082723052
        }
      }
    },
    {
      "cell_type": "code",
      "source": [
        "fig, ax = plt.subplots(figsize = (18,4))\n",
        "man_april_df.iloc[48:72].plot(ax=ax);\n",
        "plt.legend(['Jan 15th'])\n",
        "plt.xlabel('Hours')\n",
        "plt.ylabel('Number of Pickups')\n",
        "plt.title('April 3rd (Friday) Distribution by Hour in Manhattan');"
      ],
      "outputs": [],
      "execution_count": null,
      "metadata": {
        "collapsed": true,
        "jupyter": {
          "source_hidden": false,
          "outputs_hidden": false
        },
        "nteract": {
          "transient": {
            "deleting": false
          }
        },
        "gather": {
          "logged": 1605082787396
        }
      }
    },
    {
      "cell_type": "markdown",
      "source": [
        "Since April 3rd had the highest number of rides, I wanted to take a look and see what the distribution looks like and see if we can determine on the reason why. It seems like there were alot of pickups around 3-4PM. I looked online to see if April 3rd is significant in any ways. Seems like on March 28th, NY has surpassed 1000 corona virus related deaths it could be that people were afraid of taking public transportation such as MTA and decided to take more cab rides. But there was no significant abnormalities that jumped out. "
      ],
      "metadata": {
        "nteract": {
          "transient": {
            "deleting": false
          }
        }
      }
    },
    {
      "cell_type": "markdown",
      "source": [],
      "metadata": {
        "nteract": {
          "transient": {
            "deleting": false
          }
        }
      }
    }
  ],
  "metadata": {
    "kernelspec": {
      "name": "python3-azureml",
      "language": "python",
      "display_name": "Python 3.6 - AzureML"
    },
    "language_info": {
      "name": "python",
      "version": "3.6.9",
      "mimetype": "text/x-python",
      "codemirror_mode": {
        "name": "ipython",
        "version": 3
      },
      "pygments_lexer": "ipython3",
      "nbconvert_exporter": "python",
      "file_extension": ".py"
    },
    "kernel_info": {
      "name": "python3-azureml"
    },
    "nteract": {
      "version": "nteract-front-end@1.0.0"
    }
  },
  "nbformat": 4,
  "nbformat_minor": 2
}